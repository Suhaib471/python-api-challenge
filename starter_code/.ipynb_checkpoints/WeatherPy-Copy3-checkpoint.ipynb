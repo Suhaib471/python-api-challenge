{
 "cells": [
  {
   "cell_type": "markdown",
   "metadata": {},
   "source": [
    "# WeatherPy\n",
    "----\n",
    "\n",
    "#### Note\n",
    "* Instructions have been included for each segment. You do not have to follow them exactly, but they are included to help you think through the steps."
   ]
  },
  {
   "cell_type": "code",
   "execution_count": 1,
   "metadata": {
    "scrolled": true
   },
   "outputs": [],
   "source": [
    "# Dependencies and Setup\n",
    "import matplotlib.pyplot as plt\n",
    "import pandas as pd\n",
    "import numpy as np\n",
    "import requests\n",
    "import time\n",
    "import openweathermapy.core as owm\n",
    "import openweathermapy as ow\n",
    "\n",
    "# Import API key\n",
    "#from api_keys import api_key\n",
    "\n",
    "\n",
    "#config\n",
    "from config import api_key\n",
    "\n",
    "# Incorporated citipy to determine city based on latitude and longitude\n",
    "from citipy import citipy\n",
    "\n",
    "# Output File (CSV)\n",
    "output_data_file = \"output_data/cities.csv\"\n",
    "\n",
    "# Range of latitudes and longitudes\n",
    "lat_range = (-90, 90)\n",
    "lng_range = (-180, 180)"
   ]
  },
  {
   "cell_type": "markdown",
   "metadata": {},
   "source": [
    "## Generate Cities List"
   ]
  },
  {
   "cell_type": "code",
   "execution_count": 94,
   "metadata": {},
   "outputs": [
    {
     "data": {
      "text/plain": [
       "10"
      ]
     },
     "execution_count": 94,
     "metadata": {},
     "output_type": "execute_result"
    }
   ],
   "source": [
    "# List for holding lat_lngs and cities\n",
    "lat_lngs = []\n",
    "cities = []\n",
    "\n",
    "# Create a set of random lat and lng combinations\n",
    "lats = np.random.uniform(low=-5.000, high=5.000, size=1500)\n",
    "lngs = np.random.uniform(low=-1.000, high=1.000, size=1500)\n",
    "lat_lngs = zip(lats, lngs)\n",
    "\n",
    "# Identify nearest city for each lat, lng combination\n",
    "for lat_lng in lat_lngs:\n",
    "    city = citipy.nearest_city(lat_lng[0], lat_lng[1]).city_name\n",
    "    \n",
    "    # If the city is unique, then add it to a our cities list\n",
    "    if city not in cities:\n",
    "        cities.append(city)\n",
    "\n",
    "# Print the city count to confirm sufficient count\n",
    "len(cities)"
   ]
  },
  {
   "cell_type": "markdown",
   "metadata": {},
   "source": [
    "### Perform API Calls\n",
    "* Perform a weather check on each city using a series of successive API calls.\n",
    "* Include a print log of each city as it'sbeing processed (with the city number and city name).\n"
   ]
  },
  {
   "cell_type": "markdown",
   "metadata": {},
   "source": [
    "### Convert Raw Data to DataFrame\n",
    "* Export the city data into a .csv.\n",
    "* Display the DataFrame"
   ]
  },
  {
   "cell_type": "code",
   "execution_count": 95,
   "metadata": {},
   "outputs": [
    {
     "data": {
      "text/html": [
       "<div>\n",
       "<style scoped>\n",
       "    .dataframe tbody tr th:only-of-type {\n",
       "        vertical-align: middle;\n",
       "    }\n",
       "\n",
       "    .dataframe tbody tr th {\n",
       "        vertical-align: top;\n",
       "    }\n",
       "\n",
       "    .dataframe thead th {\n",
       "        text-align: right;\n",
       "    }\n",
       "</style>\n",
       "<table border=\"1\" class=\"dataframe\">\n",
       "  <thead>\n",
       "    <tr style=\"text-align: right;\">\n",
       "      <th></th>\n",
       "      <th>City</th>\n",
       "      <th>Cloudiness</th>\n",
       "      <th>Country</th>\n",
       "      <th>Humidity</th>\n",
       "      <th>Date</th>\n",
       "      <th>Lat</th>\n",
       "      <th>Lng</th>\n",
       "      <th>Max Temp</th>\n",
       "      <th>Windspeed</th>\n",
       "    </tr>\n",
       "  </thead>\n",
       "  <tbody>\n",
       "    <tr>\n",
       "      <th>0</th>\n",
       "      <td>port-gentil</td>\n",
       "      <td></td>\n",
       "      <td></td>\n",
       "      <td></td>\n",
       "      <td></td>\n",
       "      <td></td>\n",
       "      <td></td>\n",
       "      <td></td>\n",
       "      <td></td>\n",
       "    </tr>\n",
       "    <tr>\n",
       "      <th>1</th>\n",
       "      <td>takoradi</td>\n",
       "      <td></td>\n",
       "      <td></td>\n",
       "      <td></td>\n",
       "      <td></td>\n",
       "      <td></td>\n",
       "      <td></td>\n",
       "      <td></td>\n",
       "      <td></td>\n",
       "    </tr>\n",
       "    <tr>\n",
       "      <th>2</th>\n",
       "      <td>mumford</td>\n",
       "      <td></td>\n",
       "      <td></td>\n",
       "      <td></td>\n",
       "      <td></td>\n",
       "      <td></td>\n",
       "      <td></td>\n",
       "      <td></td>\n",
       "      <td></td>\n",
       "    </tr>\n",
       "    <tr>\n",
       "      <th>3</th>\n",
       "      <td>cape coast</td>\n",
       "      <td></td>\n",
       "      <td></td>\n",
       "      <td></td>\n",
       "      <td></td>\n",
       "      <td></td>\n",
       "      <td></td>\n",
       "      <td></td>\n",
       "      <td></td>\n",
       "    </tr>\n",
       "    <tr>\n",
       "      <th>4</th>\n",
       "      <td>anloga</td>\n",
       "      <td></td>\n",
       "      <td></td>\n",
       "      <td></td>\n",
       "      <td></td>\n",
       "      <td></td>\n",
       "      <td></td>\n",
       "      <td></td>\n",
       "      <td></td>\n",
       "    </tr>\n",
       "  </tbody>\n",
       "</table>\n",
       "</div>"
      ],
      "text/plain": [
       "          City Cloudiness Country Humidity Date Lat Lng Max Temp Windspeed\n",
       "0  port-gentil                                                            \n",
       "1     takoradi                                                            \n",
       "2      mumford                                                            \n",
       "3   cape coast                                                            \n",
       "4       anloga                                                            "
      ]
     },
     "execution_count": 95,
     "metadata": {},
     "output_type": "execute_result"
    }
   ],
   "source": [
    "# Import cities as DataFrame\n",
    "column_names = [\"City\"]\n",
    "cities_pd = pd.DataFrame(cities, columns=column_names)\n",
    "cities_pd[\"Cloudiness\"] = \"\"\n",
    "cities_pd[\"Country\"] = \"\"\n",
    "cities_pd[\"Humidity\"] = \"\"\n",
    "cities_pd[\"Date\"] = \"\"\n",
    "cities_pd[\"Lat\"] = \"\"\n",
    "cities_pd[\"Lng\"] = \"\"\n",
    "cities_pd[\"Max Temp\"] = \"\"\n",
    "cities_pd[\"Windspeed\"] = \"\"\n",
    "cities_pd.head()"
   ]
  },
  {
   "cell_type": "code",
   "execution_count": 96,
   "metadata": {},
   "outputs": [
    {
     "name": "stdout",
     "output_type": "stream",
     "text": [
      "Processing for port-gentil.\n",
      "_______________________________\n",
      "Processing for takoradi.\n",
      "_______________________________\n",
      "Processing for mumford.\n",
      "_______________________________\n",
      "Processing for cape coast.\n",
      "_______________________________\n",
      "Processing for anloga.\n",
      "_______________________________\n",
      "Processing for winneba.\n",
      "_______________________________\n",
      "Processing for tema.\n",
      "_______________________________\n",
      "Processing for saltpond.\n",
      "_______________________________\n",
      "Processing for teshie.\n",
      "_______________________________\n",
      "Processing for accra.\n",
      "_______________________________\n"
     ]
    }
   ],
   "source": [
    "for index, row in cities_pd.iterrows():\n",
    "    # get name from df\n",
    "    name = row[\"City\"]\n",
    "    try:\n",
    "        print(f\"Processing for {name}.\")\n",
    "        current_weather_city = owm.get_current(name, **settings)\n",
    "        cities_pd.loc[index, \"Cloudiness\"] = current_weather_city[\"clouds\"][\"all\"]\n",
    "        cities_pd.loc[index, \"Country\"] = current_weather_city[\"sys\"][\"country\"]\n",
    "        cities_pd.loc[index, \"Humidity\"] = current_weather_city[\"main\"][\"humidity\"]\n",
    "        cities_pd.loc[index, \"Date\"] = current_weather_city[\"dt\"]\n",
    "        cities_pd.loc[index, \"Lat\"] = current_weather_city[\"coord\"][\"lat\"]\n",
    "        cities_pd.loc[index, \"Lng\"] = current_weather_city[\"coord\"][\"lon\"]\n",
    "        cities_pd.loc[index, \"Max Temp\"] = current_weather_city[\"main\"][\"temp_max\"]\n",
    "        cities_pd.loc[index, \"Windspeed\"] = current_weather_city[\"wind\"][\"speed\"]\n",
    "        print(\"_______________________________\")\n",
    "        \n",
    "    except (KeyError, IndexError):\n",
    "        print(\"Missing field/result... skipping.\")"
   ]
  },
  {
   "cell_type": "code",
   "execution_count": 98,
   "metadata": {},
   "outputs": [
    {
     "data": {
      "text/html": [
       "<div>\n",
       "<style scoped>\n",
       "    .dataframe tbody tr th:only-of-type {\n",
       "        vertical-align: middle;\n",
       "    }\n",
       "\n",
       "    .dataframe tbody tr th {\n",
       "        vertical-align: top;\n",
       "    }\n",
       "\n",
       "    .dataframe thead th {\n",
       "        text-align: right;\n",
       "    }\n",
       "</style>\n",
       "<table border=\"1\" class=\"dataframe\">\n",
       "  <thead>\n",
       "    <tr style=\"text-align: right;\">\n",
       "      <th></th>\n",
       "      <th>City</th>\n",
       "      <th>Cloudiness</th>\n",
       "      <th>Country</th>\n",
       "      <th>Humidity</th>\n",
       "      <th>Date</th>\n",
       "      <th>Lat</th>\n",
       "      <th>Lng</th>\n",
       "      <th>Max Temp</th>\n",
       "      <th>Windspeed</th>\n",
       "    </tr>\n",
       "  </thead>\n",
       "  <tbody>\n",
       "    <tr>\n",
       "      <th>0</th>\n",
       "      <td>port-gentil</td>\n",
       "      <td>100</td>\n",
       "      <td>GA</td>\n",
       "      <td>86</td>\n",
       "      <td>1575686187</td>\n",
       "      <td>-0.72</td>\n",
       "      <td>8.78</td>\n",
       "      <td>25.54</td>\n",
       "      <td>5.9</td>\n",
       "    </tr>\n",
       "    <tr>\n",
       "      <th>1</th>\n",
       "      <td>takoradi</td>\n",
       "      <td>39</td>\n",
       "      <td>GH</td>\n",
       "      <td>81</td>\n",
       "      <td>1575686187</td>\n",
       "      <td>4.89</td>\n",
       "      <td>-1.75</td>\n",
       "      <td>26.6</td>\n",
       "      <td>2.68</td>\n",
       "    </tr>\n",
       "    <tr>\n",
       "      <th>2</th>\n",
       "      <td>mumford</td>\n",
       "      <td>98</td>\n",
       "      <td>GH</td>\n",
       "      <td>89</td>\n",
       "      <td>1575686187</td>\n",
       "      <td>5.26</td>\n",
       "      <td>-0.76</td>\n",
       "      <td>24.23</td>\n",
       "      <td>0.84</td>\n",
       "    </tr>\n",
       "    <tr>\n",
       "      <th>3</th>\n",
       "      <td>cape coast</td>\n",
       "      <td>98</td>\n",
       "      <td>GH</td>\n",
       "      <td>77</td>\n",
       "      <td>1575686188</td>\n",
       "      <td>5.11</td>\n",
       "      <td>-1.24</td>\n",
       "      <td>27.58</td>\n",
       "      <td>3.83</td>\n",
       "    </tr>\n",
       "    <tr>\n",
       "      <th>4</th>\n",
       "      <td>anloga</td>\n",
       "      <td>20</td>\n",
       "      <td>GH</td>\n",
       "      <td>88</td>\n",
       "      <td>1575686188</td>\n",
       "      <td>5.79</td>\n",
       "      <td>0.9</td>\n",
       "      <td>28</td>\n",
       "      <td>1</td>\n",
       "    </tr>\n",
       "    <tr>\n",
       "      <th>5</th>\n",
       "      <td>winneba</td>\n",
       "      <td>99</td>\n",
       "      <td>GH</td>\n",
       "      <td>88</td>\n",
       "      <td>1575686188</td>\n",
       "      <td>5.35</td>\n",
       "      <td>-0.62</td>\n",
       "      <td>26</td>\n",
       "      <td>3.1</td>\n",
       "    </tr>\n",
       "    <tr>\n",
       "      <th>6</th>\n",
       "      <td>tema</td>\n",
       "      <td>100</td>\n",
       "      <td>GH</td>\n",
       "      <td>88</td>\n",
       "      <td>1575686188</td>\n",
       "      <td>5.66</td>\n",
       "      <td>-0.01</td>\n",
       "      <td>26</td>\n",
       "      <td>3.1</td>\n",
       "    </tr>\n",
       "    <tr>\n",
       "      <th>7</th>\n",
       "      <td>saltpond</td>\n",
       "      <td>98</td>\n",
       "      <td>GH</td>\n",
       "      <td>77</td>\n",
       "      <td>1575686188</td>\n",
       "      <td>5.2</td>\n",
       "      <td>-1.06</td>\n",
       "      <td>27.58</td>\n",
       "      <td>3.83</td>\n",
       "    </tr>\n",
       "    <tr>\n",
       "      <th>8</th>\n",
       "      <td>teshie</td>\n",
       "      <td>100</td>\n",
       "      <td>GH</td>\n",
       "      <td>88</td>\n",
       "      <td>1575686188</td>\n",
       "      <td>5.58</td>\n",
       "      <td>-0.11</td>\n",
       "      <td>26</td>\n",
       "      <td>3.1</td>\n",
       "    </tr>\n",
       "    <tr>\n",
       "      <th>9</th>\n",
       "      <td>accra</td>\n",
       "      <td>100</td>\n",
       "      <td>GH</td>\n",
       "      <td>88</td>\n",
       "      <td>1575686188</td>\n",
       "      <td>5.56</td>\n",
       "      <td>-0.21</td>\n",
       "      <td>26</td>\n",
       "      <td>3.1</td>\n",
       "    </tr>\n",
       "  </tbody>\n",
       "</table>\n",
       "</div>"
      ],
      "text/plain": [
       "          City Cloudiness Country Humidity        Date   Lat   Lng Max Temp  \\\n",
       "0  port-gentil        100      GA       86  1575686187 -0.72  8.78    25.54   \n",
       "1     takoradi         39      GH       81  1575686187  4.89 -1.75     26.6   \n",
       "2      mumford         98      GH       89  1575686187  5.26 -0.76    24.23   \n",
       "3   cape coast         98      GH       77  1575686188  5.11 -1.24    27.58   \n",
       "4       anloga         20      GH       88  1575686188  5.79   0.9       28   \n",
       "5      winneba         99      GH       88  1575686188  5.35 -0.62       26   \n",
       "6         tema        100      GH       88  1575686188  5.66 -0.01       26   \n",
       "7     saltpond         98      GH       77  1575686188   5.2 -1.06    27.58   \n",
       "8       teshie        100      GH       88  1575686188  5.58 -0.11       26   \n",
       "9        accra        100      GH       88  1575686188  5.56 -0.21       26   \n",
       "\n",
       "  Windspeed  \n",
       "0       5.9  \n",
       "1      2.68  \n",
       "2      0.84  \n",
       "3      3.83  \n",
       "4         1  \n",
       "5       3.1  \n",
       "6       3.1  \n",
       "7      3.83  \n",
       "8       3.1  \n",
       "9       3.1  "
      ]
     },
     "execution_count": 98,
     "metadata": {},
     "output_type": "execute_result"
    }
   ],
   "source": [
    "cities_pd"
   ]
  },
  {
   "cell_type": "code",
   "execution_count": 4,
   "metadata": {},
   "outputs": [
    {
     "data": {
      "text/plain": [
       "City          547\n",
       "Cloudiness    547\n",
       "Country       547\n",
       "Date          547\n",
       "Humidity      547\n",
       "Lat           547\n",
       "Lng           547\n",
       "Max Temp      547\n",
       "Wind Speed    547\n",
       "dtype: int64"
      ]
     },
     "execution_count": 4,
     "metadata": {},
     "output_type": "execute_result"
    }
   ],
   "source": []
  },
  {
   "cell_type": "code",
   "execution_count": 5,
   "metadata": {},
   "outputs": [
    {
     "data": {
      "text/html": [
       "<div>\n",
       "<style scoped>\n",
       "    .dataframe tbody tr th:only-of-type {\n",
       "        vertical-align: middle;\n",
       "    }\n",
       "\n",
       "    .dataframe tbody tr th {\n",
       "        vertical-align: top;\n",
       "    }\n",
       "\n",
       "    .dataframe thead th {\n",
       "        text-align: right;\n",
       "    }\n",
       "</style>\n",
       "<table border=\"1\" class=\"dataframe\">\n",
       "  <thead>\n",
       "    <tr style=\"text-align: right;\">\n",
       "      <th></th>\n",
       "      <th>City</th>\n",
       "      <th>Cloudiness</th>\n",
       "      <th>Country</th>\n",
       "      <th>Date</th>\n",
       "      <th>Humidity</th>\n",
       "      <th>Lat</th>\n",
       "      <th>Lng</th>\n",
       "      <th>Max Temp</th>\n",
       "      <th>Wind Speed</th>\n",
       "    </tr>\n",
       "  </thead>\n",
       "  <tbody>\n",
       "    <tr>\n",
       "      <th>0</th>\n",
       "      <td>lompoc</td>\n",
       "      <td>1</td>\n",
       "      <td>US</td>\n",
       "      <td>1534984500</td>\n",
       "      <td>44</td>\n",
       "      <td>34.64</td>\n",
       "      <td>-120.46</td>\n",
       "      <td>77.00</td>\n",
       "      <td>11.41</td>\n",
       "    </tr>\n",
       "    <tr>\n",
       "      <th>1</th>\n",
       "      <td>klaksvik</td>\n",
       "      <td>92</td>\n",
       "      <td>FO</td>\n",
       "      <td>1534983600</td>\n",
       "      <td>100</td>\n",
       "      <td>62.23</td>\n",
       "      <td>-6.59</td>\n",
       "      <td>50.00</td>\n",
       "      <td>13.87</td>\n",
       "    </tr>\n",
       "    <tr>\n",
       "      <th>2</th>\n",
       "      <td>bisignano</td>\n",
       "      <td>0</td>\n",
       "      <td>IT</td>\n",
       "      <td>1534981800</td>\n",
       "      <td>88</td>\n",
       "      <td>39.50</td>\n",
       "      <td>16.27</td>\n",
       "      <td>66.20</td>\n",
       "      <td>5.82</td>\n",
       "    </tr>\n",
       "    <tr>\n",
       "      <th>3</th>\n",
       "      <td>hilo</td>\n",
       "      <td>90</td>\n",
       "      <td>US</td>\n",
       "      <td>1534984860</td>\n",
       "      <td>90</td>\n",
       "      <td>19.71</td>\n",
       "      <td>-155.08</td>\n",
       "      <td>77.00</td>\n",
       "      <td>8.05</td>\n",
       "    </tr>\n",
       "    <tr>\n",
       "      <th>4</th>\n",
       "      <td>rikitea</td>\n",
       "      <td>8</td>\n",
       "      <td>PF</td>\n",
       "      <td>1534986579</td>\n",
       "      <td>100</td>\n",
       "      <td>-23.12</td>\n",
       "      <td>-134.97</td>\n",
       "      <td>69.58</td>\n",
       "      <td>19.71</td>\n",
       "    </tr>\n",
       "  </tbody>\n",
       "</table>\n",
       "</div>"
      ],
      "text/plain": [
       "        City  Cloudiness Country        Date  Humidity    Lat     Lng  \\\n",
       "0     lompoc           1      US  1534984500        44  34.64 -120.46   \n",
       "1   klaksvik          92      FO  1534983600       100  62.23   -6.59   \n",
       "2  bisignano           0      IT  1534981800        88  39.50   16.27   \n",
       "3       hilo          90      US  1534984860        90  19.71 -155.08   \n",
       "4    rikitea           8      PF  1534986579       100 -23.12 -134.97   \n",
       "\n",
       "   Max Temp  Wind Speed  \n",
       "0     77.00       11.41  \n",
       "1     50.00       13.87  \n",
       "2     66.20        5.82  \n",
       "3     77.00        8.05  \n",
       "4     69.58       19.71  "
      ]
     },
     "execution_count": 5,
     "metadata": {},
     "output_type": "execute_result"
    }
   ],
   "source": []
  },
  {
   "cell_type": "markdown",
   "metadata": {},
   "source": [
    "### Plotting the Data\n",
    "* Use proper labeling of the plots using plot titles (including date of analysis) and axes labels.\n",
    "* Save the plotted figures as .pngs."
   ]
  },
  {
   "cell_type": "code",
   "execution_count": 126,
   "metadata": {},
   "outputs": [
    {
     "data": {
      "image/png": "[encoded data removed]",
      "text/plain": [
       "<Figure size 432x288 with 1 Axes>"
      ]
     },
     "metadata": {
      "needs_background": "light"
     },
     "output_type": "display_data"
    }
   ],
   "source": [
    "#### Latitude vs. Temperature Plot\n",
    "# Create data\n",
    "N = len(cities_pd)\n",
    "x = cities_pd[\"Lat\"]\n",
    "y = cities_pd[\"Max Temp\"]\n",
    "colors = (\"blue\")\n",
    "area = np.pi*15\n",
    "\n",
    "# Plot\n",
    "plt.scatter(x, y, s=area, c=colors, alpha=0.5)\n",
    "plt.title('City Latitude vs Temperature (12/6/19)')\n",
    "plt.xlabel('Latitude')\n",
    "plt.ylabel('Maximum Temperature')\n",
    "plt.show()\n"
   ]
  },
  {
   "cell_type": "markdown",
   "metadata": {},
   "source": [
    "#### Latitude vs. Humidity Plot"
   ]
  },
  {
   "cell_type": "code",
   "execution_count": 125,
   "metadata": {},
   "outputs": [
    {
     "data": {
      "image/png": "[encoded data removed]",
      "text/plain": [
       "<Figure size 432x288 with 1 Axes>"
      ]
     },
     "metadata": {
      "needs_background": "light"
     },
     "output_type": "display_data"
    }
   ],
   "source": [
    "# Create data\n",
    "N = len(cities_pd)\n",
    "x = cities_pd[\"Lat\"]\n",
    "y = cities_pd[\"Humidity\"]\n",
    "colors = (\"blue\")\n",
    "area = np.pi*15\n",
    "\n",
    "# Plot\n",
    "plt.scatter(x, y, s=area, c=colors, alpha=0.5)\n",
    "plt.title('City Latitude vs Humidity (12/6/19)')\n",
    "plt.xlabel('Latitude')\n",
    "plt.ylabel('Humidity')\n",
    "plt.show()\n"
   ]
  },
  {
   "cell_type": "markdown",
   "metadata": {},
   "source": [
    "#### Latitude vs. Cloudiness Plot"
   ]
  },
  {
   "cell_type": "code",
   "execution_count": 127,
   "metadata": {},
   "outputs": [
    {
     "data": {
      "image/png": "[encoded data removed]",
      "text/plain": [
       "<Figure size 432x288 with 1 Axes>"
      ]
     },
     "metadata": {
      "needs_background": "light"
     },
     "output_type": "display_data"
    }
   ],
   "source": [
    "# Create data\n",
    "N = len(cities_pd)\n",
    "x = cities_pd[\"Lat\"]\n",
    "y = cities_pd[\"Cloudiness\"]\n",
    "colors = (\"blue\")\n",
    "area = np.pi*15\n",
    "\n",
    "# Plot\n",
    "plt.scatter(x, y, s=area, c=colors, alpha=0.5)\n",
    "plt.title('City Latitude vs Cloudiness (12/6/19)')\n",
    "plt.xlabel('Latitude')\n",
    "plt.ylabel('Cloudiness')\n",
    "plt.show()\n"
   ]
  },
  {
   "cell_type": "markdown",
   "metadata": {},
   "source": [
    "#### Latitude vs. Wind Speed Plot"
   ]
  },
  {
   "cell_type": "code",
   "execution_count": 130,
   "metadata": {},
   "outputs": [
    {
     "data": {
      "image/png": "[encoded data removed]",
      "text/plain": [
       "<Figure size 432x288 with 1 Axes>"
      ]
     },
     "metadata": {
      "needs_background": "light"
     },
     "output_type": "display_data"
    }
   ],
   "source": [
    "# Create data\n",
    "N = len(cities_pd)\n",
    "x = cities_pd[\"Lat\"]\n",
    "y = cities_pd[\"Windspeed\"]\n",
    "colors = (\"blue\")\n",
    "area = np.pi*15\n",
    "\n",
    "# Plot\n",
    "plt.scatter(x, y, s=area, c=colors, alpha=0.5)\n",
    "plt.title('City Latitude vs Windspeed (12/6/19)')\n",
    "plt.xlabel('Latitude')\n",
    "plt.ylabel('Wind Speed')\n",
    "plt.show()\n"
   ]
  }
 ],
 "metadata": {
  "anaconda-cloud": {},
  "kernel_info": {
   "name": "python3"
  },
  "kernelspec": {
   "display_name": "Python 3",
   "language": "python",
   "name": "python3"
  },
  "language_info": {
   "codemirror_mode": {
    "name": "ipython",
    "version": 3
   },
   "file_extension": ".py",
   "mimetype": "text/x-python",
   "name": "python",
   "nbconvert_exporter": "python",
   "pygments_lexer": "ipython3",
   "version": "3.7.3"
  },
  "nteract": {
   "version": "0.12.3"
  }
 },
 "nbformat": 4,
 "nbformat_minor": 2
}
